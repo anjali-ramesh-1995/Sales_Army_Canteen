{
 "cells": [
  {
   "cell_type": "code",
   "execution_count": 345,
   "id": "94f0ef87",
   "metadata": {},
   "outputs": [],
   "source": [
    "import pandas as pd\n",
    "import numpy as np"
   ]
  },
  {
   "cell_type": "code",
   "execution_count": 346,
   "id": "78f7e7e7",
   "metadata": {},
   "outputs": [],
   "source": [
    "# Reading the data\n",
    "file = 'data_export.xlsx'\n",
    "df = pd.read_excel(file, header = 0)\n",
    "# ensuring that index values are numeric and not null\n",
    "df = df[pd.to_numeric(df['GP'], errors='coerce').notnull()]"
   ]
  },
  {
   "cell_type": "code",
   "execution_count": 347,
   "id": "a67b4e00",
   "metadata": {},
   "outputs": [],
   "source": [
    "def setting_df_astype(df, cols, data_type):\n",
    "    \n",
    "    for col in cols:\n",
    "        df[col] = df[col].astype(data_type)\n",
    "    \n",
    "    return df"
   ]
  },
  {
   "cell_type": "code",
   "execution_count": 348,
   "id": "43f02814",
   "metadata": {},
   "outputs": [
    {
     "name": "stderr",
     "output_type": "stream",
     "text": [
      "/var/folders/vp/yhfll2qd0fgc3wnbgyc1yhyr0000gp/T/ipykernel_16579/3070581631.py:13: FutureWarning: The default value of regex will change from True to False in a future version.\n",
      "  df['SUP NAME'] = df['SUP NAME'].str.replace('\\d+', '')\n",
      "/var/folders/vp/yhfll2qd0fgc3wnbgyc1yhyr0000gp/T/ipykernel_16579/3070581631.py:14: FutureWarning: The default value of regex will change from True to False in a future version.\n",
      "  df['NOMEN'] = df['NOMEN'].str.replace('\\d+', '')\n"
     ]
    },
    {
     "data": {
      "text/html": [
       "<div>\n",
       "<style scoped>\n",
       "    .dataframe tbody tr th:only-of-type {\n",
       "        vertical-align: middle;\n",
       "    }\n",
       "\n",
       "    .dataframe tbody tr th {\n",
       "        vertical-align: top;\n",
       "    }\n",
       "\n",
       "    .dataframe thead th {\n",
       "        text-align: right;\n",
       "    }\n",
       "</style>\n",
       "<table border=\"1\" class=\"dataframe\">\n",
       "  <thead>\n",
       "    <tr style=\"text-align: right;\">\n",
       "      <th></th>\n",
       "      <th>GP</th>\n",
       "      <th>GENRIC</th>\n",
       "      <th>SUP NAME</th>\n",
       "      <th>NOMEN</th>\n",
       "      <th>CPK</th>\n",
       "      <th>DT OF INTRO</th>\n",
       "      <th>TOTAL UNITS</th>\n",
       "      <th>WH RT PER UNIT</th>\n",
       "      <th>VALUE</th>\n",
       "      <th>PER VOL</th>\n",
       "      <th>PER VAL</th>\n",
       "    </tr>\n",
       "  </thead>\n",
       "  <tbody>\n",
       "    <tr>\n",
       "      <th>0</th>\n",
       "      <td>1</td>\n",
       "      <td>1</td>\n",
       "      <td>M/S.LASER SHAVING (INDIA) PRIVATE LIMITED</td>\n",
       "      <td>LASER S/STEEL BLADE `S PKT</td>\n",
       "      <td>2000.0</td>\n",
       "      <td>1999-02-28 00:00:00</td>\n",
       "      <td>2238212</td>\n",
       "      <td>3.78</td>\n",
       "      <td>84.60</td>\n",
       "      <td>36.21</td>\n",
       "      <td>10.05</td>\n",
       "    </tr>\n",
       "    <tr>\n",
       "      <th>1</th>\n",
       "      <td>1</td>\n",
       "      <td>1</td>\n",
       "      <td>M/S.LASER SHAVING (INDIA) PRIVATE LIMITED</td>\n",
       "      <td>LASER ULTRA S-S BLADES (H-C OF  BLA</td>\n",
       "      <td>2000.0</td>\n",
       "      <td>2007-11-06 00:00:00</td>\n",
       "      <td>1081524</td>\n",
       "      <td>4.67</td>\n",
       "      <td>50.51</td>\n",
       "      <td>17.5</td>\n",
       "      <td>6</td>\n",
       "    </tr>\n",
       "    <tr>\n",
       "      <th>2</th>\n",
       "      <td>1</td>\n",
       "      <td>1</td>\n",
       "      <td>M/S.SUPERMAX PERSONAL CARE PVT LTD.</td>\n",
       "      <td>+ FREE SUPERIOR QUALITY VIDYUT SU</td>\n",
       "      <td>1000.0</td>\n",
       "      <td>2021-12-10 00:00:00</td>\n",
       "      <td>0</td>\n",
       "      <td>13.50</td>\n",
       "      <td>0.00</td>\n",
       "      <td>0</td>\n",
       "      <td>0</td>\n",
       "    </tr>\n",
       "    <tr>\n",
       "      <th>3</th>\n",
       "      <td>1</td>\n",
       "      <td>1</td>\n",
       "      <td>M/S.GILLETE INDIA  LTD.,                      ...</td>\n",
       "      <td>GILLETTE `O CLOCK SUPER PLATINUM BL</td>\n",
       "      <td>1200.0</td>\n",
       "      <td>1987-01-31 00:00:00</td>\n",
       "      <td>2862145</td>\n",
       "      <td>24.70</td>\n",
       "      <td>706.95</td>\n",
       "      <td>46.3</td>\n",
       "      <td>83.95</td>\n",
       "    </tr>\n",
       "    <tr>\n",
       "      <th>5</th>\n",
       "      <td>1</td>\n",
       "      <td>2</td>\n",
       "      <td>M/S.MODI MUNDI PHARMA BEAUTY PRODUC</td>\n",
       "      <td>STREET WEAR LIP LINER - CHUCK BERRY</td>\n",
       "      <td>96.0</td>\n",
       "      <td>2021-01-11 00:00:00</td>\n",
       "      <td>7561</td>\n",
       "      <td>128.58</td>\n",
       "      <td>9.72</td>\n",
       "      <td>38.17</td>\n",
       "      <td>38.17</td>\n",
       "    </tr>\n",
       "  </tbody>\n",
       "</table>\n",
       "</div>"
      ],
      "text/plain": [
       "  GP GENRIC                                           SUP NAME  \\\n",
       "0  1      1       M/S.LASER SHAVING (INDIA) PRIVATE LIMITED      \n",
       "1  1      1       M/S.LASER SHAVING (INDIA) PRIVATE LIMITED      \n",
       "2  1      1       M/S.SUPERMAX PERSONAL CARE PVT LTD.            \n",
       "3  1      1  M/S.GILLETE INDIA  LTD.,                      ...   \n",
       "5  1      2            M/S.MODI MUNDI PHARMA BEAUTY PRODUC       \n",
       "\n",
       "                                  NOMEN     CPK          DT OF INTRO  \\\n",
       "0            LASER S/STEEL BLADE `S PKT  2000.0  1999-02-28 00:00:00   \n",
       "1   LASER ULTRA S-S BLADES (H-C OF  BLA  2000.0  2007-11-06 00:00:00   \n",
       "2     + FREE SUPERIOR QUALITY VIDYUT SU  1000.0  2021-12-10 00:00:00   \n",
       "3   GILLETTE `O CLOCK SUPER PLATINUM BL  1200.0  1987-01-31 00:00:00   \n",
       "5  STREET WEAR LIP LINER - CHUCK BERRY     96.0  2021-01-11 00:00:00   \n",
       "\n",
       "  TOTAL UNITS  WH RT PER UNIT   VALUE PER VOL PER VAL  \n",
       "0     2238212            3.78   84.60   36.21   10.05  \n",
       "1     1081524            4.67   50.51    17.5       6  \n",
       "2           0           13.50    0.00       0       0  \n",
       "3     2862145           24.70  706.95    46.3   83.95  \n",
       "5        7561          128.58    9.72   38.17   38.17  "
      ]
     },
     "execution_count": 348,
     "metadata": {},
     "output_type": "execute_result"
    }
   ],
   "source": [
    "# handling merged columns of excel\n",
    "df['CPK'] = df['CPK'].astype('float').fillna(df['Unnamed: 5']).astype('float').fillna(df['Unnamed: 6']).astype('float')\n",
    "df['WH RT PER UNIT'] = df['WH RT PER UNIT'].astype('float').fillna(df['Unnamed: 10']).astype('float')\n",
    "df['VALUE'] = df['VALUE'].astype('float').fillna(df['Unnamed: 12']).astype('float').fillna(df['Unnamed: 13']).astype('float')\n",
    "\n",
    "# dropping unnamed columns\n",
    "df.drop(columns = [\"Unnamed: 5\", \"Unnamed: 6\", \"Unnamed: 10\", \"Unnamed: 12\", \"Unnamed: 13\"], inplace = True)\n",
    "\n",
    "# dropping rows with nan values\n",
    "df.dropna(axis = 0, inplace = True)\n",
    "\n",
    "# cleaning the supplier and product names\n",
    "df['SUP NAME'] = df['SUP NAME'].str.replace('\\d+', '')\n",
    "df['NOMEN'] = df['NOMEN'].str.replace('\\d+', '')\n",
    "\n",
    "df.head()"
   ]
  },
  {
   "cell_type": "code",
   "execution_count": 349,
   "id": "91cd9543",
   "metadata": {},
   "outputs": [],
   "source": [
    "columns = ['group_id', 'category_id', 'supplier', 'product', 'pieces_per_unit', 'date',\n",
    "          'total_units', 'price_per_unit', 'sales_in_lakhs', 'volume_share', 'value_share']\n",
    "# Column Data Types \n",
    "int_col = ['group_id', 'category_id', 'pieces_per_unit', 'total_units']\n",
    "float_col = ['price_per_unit', 'sales_in_lakhs', 'volume_share', 'value_share']"
   ]
  },
  {
   "cell_type": "code",
   "execution_count": 350,
   "id": "66c337ba",
   "metadata": {},
   "outputs": [],
   "source": [
    "df = df.rename(columns = {\"GP\":\"group_id\", \"GENRIC\": \"category_id\",\n",
    "                         \"SUP NAME\" : \"supplier\", \"NOMEN\":\"product\", \"CPK\":\"pieces_per_unit\",\n",
    "                         \"DT OF INTRO\":\"date\", \"TOTAL UNITS\":\"total_units\", \"WH RT PER UNIT\":\"price_per_unit\",\n",
    "                         \"VALUE\":\"sales_in_lakhs\", \"PER VOL\":\"volume_share\", \"PER VAL\":\"value_share\"})"
   ]
  },
  {
   "cell_type": "code",
   "execution_count": 351,
   "id": "a61da614",
   "metadata": {},
   "outputs": [],
   "source": [
    "df_group7 = pd.read_excel(\"group7_sales.xlsx\", header = 0)\n",
    "df_group7 = df_group7[pd.to_numeric(df_group7['CODE'], errors='coerce').notnull()]\n",
    "df_group7['GP'] = 7\n",
    "df_group7.drop(columns = ['NAME','IND','BG'], inplace = True)\n",
    "df_group7 = df_group7.rename(columns = {\"GP\":\"group_id\", \"CODE\": \"category_id\",\n",
    "                         \"SUP\" : \"supplier\", \"NOMEN\":\"product\", \"PCK\":\"pieces_per_unit\",\n",
    "                         \"DT OF INT\":\"date\", \"SALES\":\"total_units\", \"RATE\":\"price_per_unit\",\n",
    "                         \"VALUE\":\"sales_in_lakhs\", \"VOL %\":\"volume_share\", \"VAL%\":\"value_share\"})\n",
    "df_group7 = df_group7[columns]"
   ]
  },
  {
   "cell_type": "code",
   "execution_count": 352,
   "id": "606ad86b",
   "metadata": {},
   "outputs": [],
   "source": [
    "sales_df = pd.concat([df, df_group7], ignore_index = True)"
   ]
  },
  {
   "cell_type": "code",
   "execution_count": 353,
   "id": "4c1765c4",
   "metadata": {},
   "outputs": [],
   "source": [
    "# Setting data types\n",
    "sales_df['date'] =  pd.to_datetime(sales_df['date'])\n",
    "sales_df = setting_df_astype(sales_df, int_col, 'int')\n",
    "sales_df = setting_df_astype(sales_df, float_col, 'float')"
   ]
  },
  {
   "cell_type": "code",
   "execution_count": 358,
   "id": "a963fd39",
   "metadata": {},
   "outputs": [],
   "source": [
    "sales_df.to_excel(\"2021-2022_Sales.xlsx\", index = 0)"
   ]
  },
  {
   "cell_type": "code",
   "execution_count": null,
   "id": "b08bf61c",
   "metadata": {},
   "outputs": [],
   "source": []
  }
 ],
 "metadata": {
  "kernelspec": {
   "display_name": "Python 3 (ipykernel)",
   "language": "python",
   "name": "python3"
  },
  "language_info": {
   "codemirror_mode": {
    "name": "ipython",
    "version": 3
   },
   "file_extension": ".py",
   "mimetype": "text/x-python",
   "name": "python",
   "nbconvert_exporter": "python",
   "pygments_lexer": "ipython3",
   "version": "3.10.10"
  }
 },
 "nbformat": 4,
 "nbformat_minor": 5
}
